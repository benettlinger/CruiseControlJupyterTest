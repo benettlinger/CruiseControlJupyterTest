{
 "cells": [
  {
   "cell_type": "markdown",
   "metadata": {},
   "source": [
    "# Cruise Control Module & Vehicle Model\n",
    "## DARPA Assured Micro-Patching Project\n",
    "## Peter Lobato, Matt Campo, Ben Ettlinger\n",
    "### Version 0\n",
    "\n",
    "This jupyter notebook contains two parts: (a) a simulated cruise control module (CCM) and (b) a vehicle model (VM).\n",
    "\n",
    "The CCM takes in vehicle speed and desired setpoint and outputs an accelerator pedal position (APP). The VM takes in APP and outputs an incremental change in vehicle speed. This interaction becomes a loop which runs at 10Hz. \n",
    "\n",
    "The vehicle used in this model is a Class 6 Freightliner truck with road load coefficients found here: \n",
    "\n",
    "https://www.nrel.gov/docs/fy17osti/64610.pdf\n",
    "\n",
    "The cruise control module settings can be configured by the user. These include the Kp and Ki terms, (+) and (-) slew rates, speed differential at which the CCM shuts off and integrator time constant.\n",
    "\n",
    "Version 0-sandbox added time.sleep so that APP, speed measurements go out every 0.1 seconds.\n",
    "\n",
    "Version 1 - test - took the notebook from my desktop, copied it Main on github, cloned directory on beaglebone, and can load it from the Beaglebone. Making this change to see that I made a change on Branch1, then going to get Branch1 from the Beaglebone."
   ]
  },
  {
   "cell_type": "code",
   "execution_count": 30,
   "metadata": {},
   "outputs": [],
   "source": [
    "# Import libraries\n",
    "import time\n",
    "import math\n",
    "import numpy as np\n",
    "import matplotlib.pyplot as plt\n",
    "# import pandas as pd\n",
    "# import xlrd\n",
    "# pip install numpy==1.19.3\n"
   ]
  },
  {
   "cell_type": "code",
   "execution_count": 31,
   "metadata": {},
   "outputs": [],
   "source": [
    "# Define User Variables\n",
    "#Global Variables\n",
    "t_interval = .1  # Constant time interval [reflects CAN protocol wanted]"
   ]
  },
  {
   "cell_type": "code",
   "execution_count": 32,
   "metadata": {},
   "outputs": [],
   "source": [
    "#User-defined variables for CCM\n",
    "initial_kph = 55  # Initial speed when Cruise Control is activated [kph]\n",
    "target = 75.0  # Speed wanted to be maintained [kph]\n",
    "kff = 0\n",
    "c_kp = 10  # Constant proportional term\n",
    "c_ki = 0.01  # Constant integral term\n",
    "itc = 100  # Integral time constant [used per time interval, units are number of time intervals, or 1/10th seconds]\n",
    "slew_lowLimit = -75  # Low limit for calculated slew rate [%/s]\n",
    "slew_highLimit = 75\n",
    "# High limit for calculated slew rate [%/s]\n",
    "APP = 0  # Initial accelerator pedal position [%]\n",
    "prev_APP = 0\n",
    "kph = initial_kph\n",
    "prev_kph = initial_kph\n",
    "prev_errors = [0.0 for _ in range(itc)]  # Array of previous errors to calculate integral term\n",
    "i = 0  # Keeps circular buffer of size itc for error summation\n",
    "checks = True  # Breaks proccess if errors occur\n"
   ]
  },
  {
   "cell_type": "code",
   "execution_count": 33,
   "metadata": {},
   "outputs": [],
   "source": [
    "#Vehicle Model Constants\n",
    "mass = 11793  # Mass of vehicle [kg]\n",
    "track_inertia = 1.03 * mass  # Estimated track inertia [kg]\n",
    "# Constants in quadratic function for steady state road load\n",
    "a = 579  # [N]\n",
    "b = 0  # [N/kph]\n",
    "c = 0.241512  # [N/kph^2]\n",
    "ratedP = 179 # [kW]\n",
    "\n",
    "# Using to check results via graph\n",
    "graph = True\n",
    "x = [0.0]\n",
    "y = [initial_kph]\n",
    "x_value = 0.0\n",
    "y_value = initial_kph\n",
    "\n",
    "# grade used as apart of timed drive cycle schedule\n",
    "grade = 0"
   ]
  },
  {
   "cell_type": "code",
   "execution_count": 34,
   "metadata": {},
   "outputs": [
    {
     "data": {
      "image/png": "[encoded data removed]",
      "text/plain": [
       "<Figure size 432x288 with 1 Axes>"
      ]
     },
     "metadata": {
      "needs_background": "light"
     },
     "output_type": "display_data"
    }
   ],
   "source": [
    "#Cruise Controller\n",
    "# Functions\n",
    "def cruise_controller(kph):\n",
    "    global i\n",
    "    global prev_APP\n",
    "    global APP\n",
    "    global ki\n",
    "    global kp\n",
    "\n",
    "    error = kph - target\n",
    "    prev_errors[i] = error\n",
    "    i = i + 1\n",
    "    if i == itc:\n",
    "        i = 0\n",
    "    kp = -c_kp * error\n",
    "    ki = -c_ki * sum(prev_errors)\n",
    "    APP = kp + ki\n",
    "\n",
    "    if APP > 100:\n",
    "        APP = 100\n",
    "    elif APP < 0:\n",
    "        APP = 0\n",
    "\n",
    "    slew_rate = (APP - prev_APP) / t_interval\n",
    "\n",
    "    if slew_rate < slew_lowLimit:\n",
    "        slew_rate = slew_lowLimit\n",
    "        APP = prev_APP + slew_rate * t_interval\n",
    "    elif slew_rate > slew_highLimit:\n",
    "        slew_rate = slew_highLimit\n",
    "        APP = prev_APP + slew_rate * t_interval\n",
    "\n",
    "    prev_APP = APP\n",
    "    return APP\n",
    "    return kp\n",
    "    return ki\n",
    "y2 = [APP]\n",
    "\n",
    "\n",
    "################# SPLIT HERE FOR J1939 #############################\n",
    "\n",
    "\n",
    "#Vehicle Model\n",
    "def vehicle_model(APP):\n",
    "    global kph\n",
    "    global prev_kph\n",
    "\n",
    "    accel = (kph - prev_kph) / t_interval\n",
    "    roadLoad_SS = a + b * kph + c * kph ** 2\n",
    "    roadLoad_inertial = accel * track_inertia / 3600\n",
    "    roadLoad_grade = mass * 9.81 * math.sin(math.radians(math.atan(grade / 100)))\n",
    "    roadLoad_E = roadLoad_SS + roadLoad_inertial + roadLoad_grade\n",
    "\n",
    "    # look up tables inserted here, input APP, output tractive power)\n",
    "    # lookup = pd.read_excel('LookupTable.xlsx')\n",
    "    # lookup.info()\n",
    "\n",
    "    # starting with => APP*rated power = tractive power [W] as estimate\n",
    "    tractive_P = APP * ratedP / 100\n",
    "    tractive_effort = tractive_P / kph * 3600\n",
    "    delta_v = (tractive_effort - roadLoad_E) * t_interval / track_inertia\n",
    "    kph = prev_kph + delta_v\n",
    "    prev_kph = kph\n",
    "    return kph\n",
    "\n",
    "while (checks == True):\n",
    "\n",
    "    # Error Handlers\n",
    "    if abs(target - kph) > 30:\n",
    "        print(\"ERROR: Target speed outside speed difference limit\")\n",
    "        checks = False\n",
    "        break\n",
    "    # Main Response Loop\n",
    "    cruise_controller(kph)\n",
    "    vehicle_model(APP)\n",
    "    #time.sleep(0.1)\n",
    "\n",
    "######################## Plug in two numbers, send out J1939 message ########################\n",
    "    \n",
    "    # Generated Graph of Response\n",
    "    if graph == True:\n",
    "        x_value+=t_interval\n",
    "        y_value = kph\n",
    "        y2_value = APP\n",
    "        x.append(x_value)\n",
    "        y.append(y_value)\n",
    "        y2.append(y2_value)\n",
    "        #print(x_value)#Just put in to make sure program is running properly\n",
    "        #print(y_value) #Uncomment these three \"print\" statements to show numerical values\n",
    "        #print(y2_value) #Uncomment these three \"print\" statements to show numerical values\n",
    "        duration = 60\n",
    "        if x_value >= duration: #This is where you set the x-axis value for how long you want the loop to run for.\n",
    "            graph = False\n",
    "            checks = False\n",
    "            plt.plot(x,y)\n",
    "            plt.plot(x,y2)\n",
    "            plt.xlim(0,duration)\n",
    "            plt.ylim(0,110)\n",
    "            plt.grid(True)\n",
    "            plt.xlabel('Time [s]')\n",
    "            plt.ylabel('Speed [kph]')\n",
    "            plt.title('Cruise Control Response')\n",
    "            plt.show()"
   ]
  },
  {
   "cell_type": "code",
   "execution_count": 11,
   "metadata": {},
   "outputs": [
    {
     "name": "stdout",
     "output_type": "stream",
     "text": [
      "before\n",
      "after\n"
     ]
    }
   ],
   "source": [
    "#Can delete this cell: just using it to figure out how \"time\" works\n",
    "import time\n",
    "print(\"before\")\n",
    "time.sleep(5)\n",
    "print(\"after\")"
   ]
  },
  {
   "cell_type": "code",
   "execution_count": null,
   "metadata": {},
   "outputs": [],
   "source": []
  }
 ],
 "metadata": {
  "kernelspec": {
   "display_name": "Python 3",
   "language": "python",
   "name": "python3"
  },
  "language_info": {
   "codemirror_mode": {
    "name": "ipython",
    "version": 3
   },
   "file_extension": ".py",
   "mimetype": "text/x-python",
   "name": "python",
   "nbconvert_exporter": "python",
   "pygments_lexer": "ipython3",
   "version": "3.8.5"
  }
 },
 "nbformat": 4,
 "nbformat_minor": 4
}
